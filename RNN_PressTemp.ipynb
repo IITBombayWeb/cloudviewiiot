{
  "nbformat": 4,
  "nbformat_minor": 0,
  "metadata": {
    "colab": {
      "provenance": [],
      "gpuType": "T4"
    },
    "kernelspec": {
      "name": "python3",
      "display_name": "Python 3"
    },
    "language_info": {
      "name": "python"
    },
    "accelerator": "GPU"
  },
  "cells": [
    {
      "cell_type": "code",
      "execution_count": null,
      "metadata": {
        "id": "8toO6i5WoUf4"
      },
      "outputs": [],
      "source": [
        "import pandas as pd\n",
        "\n",
        "# Load the data from a CSV file\n",
        "data = pd.read_csv('/content/Combined_Temp_Pressure4.csv')\n",
        "\n",
        "# Display the first few rows of the data\n",
        "print(data.head())\n"
      ]
    },
    {
      "cell_type": "code",
      "source": [
        "data['Timestamp'] = pd.to_datetime(data['Timestamp'])\n",
        "data['Time (s)'] = (data['Timestamp'] - data['Timestamp'].min()).dt.total_seconds()\n",
        "\n",
        "# Extract features and target variable\n",
        "features = data[['Time (s)', 'Temperature (in Celsius)', 'Pressure (in MPa)']].values"
      ],
      "metadata": {
        "id": "rSqZ7XxKpMxQ"
      },
      "execution_count": null,
      "outputs": []
    },
    {
      "cell_type": "code",
      "source": [
        "# Normalize the features\n",
        "from sklearn.preprocessing import MinMaxScaler\n",
        "import numpy as np\n",
        "scaler = MinMaxScaler()\n",
        "features_normalized = scaler.fit_transform(features)\n",
        "\n",
        "# Create sequences of the data\n",
        "def create_sequences(data, seq_length):\n",
        "    xs = []\n",
        "    ys = []\n",
        "    for i in range(len(data) - seq_length):\n",
        "        x = data[i:i+seq_length]\n",
        "        y = data[i+seq_length]\n",
        "        xs.append(x)\n",
        "        ys.append(y)\n",
        "    return np.array(xs), np.array(ys)\n",
        "\n",
        "seq_length = 10\n",
        "X, y = create_sequences(features_normalized, seq_length)\n",
        "\n",
        "# Split the data into training and testing sets\n",
        "split_ratio = 0.8\n",
        "split_index = int(len(X) * split_ratio)\n",
        "X_train, X_test = X[:split_index], X[split_index:]\n",
        "y_train, y_test = y[:split_index], y[split_index:]"
      ],
      "metadata": {
        "id": "ZN23p3gAotoa"
      },
      "execution_count": null,
      "outputs": []
    },
    {
      "cell_type": "code",
      "source": [
        "import pandas as pd\n",
        "import numpy as np\n",
        "import tensorflow as tf\n",
        "from tensorflow.keras.models import Sequential\n",
        "from tensorflow.keras.layers import Dense, LSTM, Dropout\n",
        "import matplotlib.pyplot as plt\n",
        "\n",
        "\n",
        "# Build the RNN model\n",
        "model = Sequential()\n",
        "model.add(LSTM(50, return_sequences=True, input_shape=(seq_length, X.shape[2])))\n",
        "model.add(Dropout(0.2))\n",
        "model.add(LSTM(50, return_sequences=False))\n",
        "model.add(Dropout(0.2))\n",
        "model.add(Dense(3))\n",
        "\n",
        "model.compile(optimizer='adam', loss='mean_squared_error')\n",
        "\n",
        "# Train the model\n",
        "history = model.fit(X_train, y_train, epochs=50, validation_split=0.2)\n",
        "\n",
        "# Evaluate the model\n",
        "loss = model.evaluate(X_test, y_test)\n",
        "print(f'Test Loss: {loss}')\n",
        "\n",
        "# Make predictions\n",
        "predictions = model.predict(X_test)\n",
        "\n",
        "# Inverse transform the predictions to get the actual values\n",
        "predictions_inverse = scaler.inverse_transform(predictions)\n",
        "y_test_inverse = scaler.inverse_transform(y_test)\n",
        "\n"
      ],
      "metadata": {
        "id": "AtQlIzgOpVo1"
      },
      "execution_count": null,
      "outputs": []
    },
    {
      "cell_type": "code",
      "source": [
        "# Extract the time, temperature, and pressure for plotting\n",
        "time_test = y_test_inverse[:, 0]\n",
        "actual_temperature = y_test_inverse[:, 1]\n",
        "predicted_temperature = predictions_inverse[:, 1]\n",
        "actual_pressure = y_test_inverse[:, 2]\n",
        "predicted_pressure = predictions_inverse[:, 2]\n",
        "\n",
        "# Plot actual vs predicted temperature\n",
        "plt.figure(figsize=(14, 6))\n",
        "\n",
        "plt.subplot(2, 1, 1)\n",
        "plt.plot(time_test, actual_temperature, label='Actual Temperature', color='b')\n",
        "plt.plot(time_test, predicted_temperature, label='Predicted Temperature', color='r')\n",
        "plt.xlabel('Time (s)')\n",
        "plt.ylabel('Temperature (in Celsius)')\n",
        "plt.title('Actual vs Predicted Temperature')\n",
        "plt.legend()\n",
        "\n",
        "# Plot actual vs predicted pressure\n",
        "plt.subplot(2, 1, 2)\n",
        "plt.plot(time_test, actual_pressure, label='Actual Pressure', color='b')\n",
        "plt.plot(time_test, predicted_pressure, label='Predicted Pressure', color='r')\n",
        "plt.xlabel('Time (s)')\n",
        "plt.ylabel('Pressure (in MPa)')\n",
        "plt.title('Actual vs Predicted Pressure')\n",
        "plt.legend()\n",
        "\n",
        "plt.tight_layout()\n",
        "plt.show()"
      ],
      "metadata": {
        "id": "4A2kBQVcqXts"
      },
      "execution_count": null,
      "outputs": []
    }
  ]
}