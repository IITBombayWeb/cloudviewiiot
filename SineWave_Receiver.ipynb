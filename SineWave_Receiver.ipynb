{
 "cells": [
  {
   "cell_type": "code",
   "execution_count": 1,
   "metadata": {},
   "outputs": [],
   "source": [
    "import serial\n",
    "import csv\n",
    "import time\n",
    "import math\n",
    "import threading\n",
    "import datetime"
   ]
  },
  {
   "cell_type": "code",
   "execution_count": 2,
   "metadata": {},
   "outputs": [],
   "source": [
    "def read_data():\n",
    "    \n",
    "    port_name = '/dev/pts/7'\n",
    "    ser = serial.serial_for_url(port_name, baudrate=4800)\n",
    "    with open('out7new6.csv','w',newline='') as csv_file:\n",
    "        writer = csv.writer(csv_file)\n",
    "        writer.writerow(['Time','Hour','Minute','Seconds','value'])\n",
    "        #writer.writerow(['Time','value'])\n",
    "\n",
    "        #print(\"Opened CSV file for writing\")\n",
    "\n",
    "        while True:\n",
    "            line = ser.readline().decode('utf-8').strip()\n",
    "            #print(line)\n",
    "            if line:\n",
    "                print(line)  \n",
    "                #writer.writerow(line.split(\",\"))\n",
    "                t,sin_val = map(float,line.split(','))\n",
    "                #print(t)\n",
    "                #print(sin_val)\n",
    "                clock = datetime.datetime.fromtimestamp(t)\n",
    "                h = clock.hour\n",
    "                m = clock.minute\n",
    "                s = clock.second + clock.microsecond / 1e6\n",
    "                writer.writerow([t,h,m,s,sin_val])\n",
    "                csv_file.flush()\n",
    "            \n",
    "    ser.close()"
   ]
  },
  {
   "cell_type": "code",
   "execution_count": null,
   "metadata": {},
   "outputs": [],
   "source": [
    "read_data()"
   ]
  }
 ],
 "metadata": {
  "kernelspec": {
   "display_name": "Python 3",
   "language": "python",
   "name": "python3"
  },
  "language_info": {
   "codemirror_mode": {
    "name": "ipython",
    "version": 3
   },
   "file_extension": ".py",
   "mimetype": "text/x-python",
   "name": "python",
   "nbconvert_exporter": "python",
   "pygments_lexer": "ipython3",
   "version": "3.10.12"
  }
 },
 "nbformat": 4,
 "nbformat_minor": 2
}
