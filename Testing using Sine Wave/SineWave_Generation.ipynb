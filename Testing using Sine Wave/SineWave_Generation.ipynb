{
 "cells": [
  {
   "cell_type": "code",
   "execution_count": 2,
   "metadata": {},
   "outputs": [],
   "source": [
    "import serial\n",
    "import csv\n",
    "import time\n",
    "import math\n",
    "import threading\n",
    "import datetime"
   ]
  },
  {
   "cell_type": "code",
   "execution_count": 5,
   "metadata": {},
   "outputs": [],
   "source": [
    "def sin_in():\n",
    "    port_name = '/dev/pts/8'\n",
    "    freq = 0.1\n",
    "    ser = serial.serial_for_url(port_name, baudrate=4800)\n",
    "    ts = 1\n",
    "    delts = float(input('Sampling interval: '))\n",
    "    eps = 0.001\n",
    "\n",
    "    to = time.time()\n",
    "    while True: \n",
    "        t = time.time()\n",
    "        if abs(((t - to) - ts)/(t-to)) < eps:\n",
    "            delt = t - to\n",
    "            sin_val = math.sin(2*math.pi*freq*delt)\n",
    "            data = f\"{t},{sin_val}\\n\"\n",
    "            print(data)\n",
    "            ts = ts + delts\n",
    "            ser.write(data.encode('utf-8'))\n",
    "            ser.flush()\n",
    "\n",
    "    ser.close()"
   ]
  },
  {
   "cell_type": "code",
   "execution_count": null,
   "metadata": {},
   "outputs": [],
   "source": [
    "sin_in()"
   ]
  }
 ],
 "metadata": {
  "kernelspec": {
   "display_name": "Python 3",
   "language": "python",
   "name": "python3"
  },
  "language_info": {
   "codemirror_mode": {
    "name": "ipython",
    "version": 3
   },
   "file_extension": ".py",
   "mimetype": "text/x-python",
   "name": "python",
   "nbconvert_exporter": "python",
   "pygments_lexer": "ipython3",
   "version": "3.10.12"
  }
 },
 "nbformat": 4,
 "nbformat_minor": 2
}
